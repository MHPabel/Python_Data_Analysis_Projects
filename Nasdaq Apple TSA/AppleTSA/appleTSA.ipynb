{
 "cells": [
  {
   "cell_type": "code",
   "execution_count": 50,
   "id": "50ada118",
   "metadata": {},
   "outputs": [
    {
     "data": {
      "text/html": [
       "<div>\n",
       "<style scoped>\n",
       "    .dataframe tbody tr th:only-of-type {\n",
       "        vertical-align: middle;\n",
       "    }\n",
       "\n",
       "    .dataframe tbody tr th {\n",
       "        vertical-align: top;\n",
       "    }\n",
       "\n",
       "    .dataframe thead th {\n",
       "        text-align: right;\n",
       "    }\n",
       "</style>\n",
       "<table border=\"1\" class=\"dataframe\">\n",
       "  <thead>\n",
       "    <tr style=\"text-align: right;\">\n",
       "      <th></th>\n",
       "      <th>Close</th>\n",
       "      <th>Volume</th>\n",
       "      <th>Open</th>\n",
       "      <th>High</th>\n",
       "      <th>Low</th>\n",
       "    </tr>\n",
       "    <tr>\n",
       "      <th>Date</th>\n",
       "      <th></th>\n",
       "      <th></th>\n",
       "      <th></th>\n",
       "      <th></th>\n",
       "      <th></th>\n",
       "    </tr>\n",
       "  </thead>\n",
       "  <tbody>\n",
       "    <tr>\n",
       "      <th>2023-02-16</th>\n",
       "      <td>$153.71</td>\n",
       "      <td>68167940</td>\n",
       "      <td>$153.51</td>\n",
       "      <td>$156.33</td>\n",
       "      <td>$153.3475</td>\n",
       "    </tr>\n",
       "    <tr>\n",
       "      <th>2023-02-15</th>\n",
       "      <td>$155.33</td>\n",
       "      <td>65669250</td>\n",
       "      <td>$153.11</td>\n",
       "      <td>$155.5</td>\n",
       "      <td>$152.88</td>\n",
       "    </tr>\n",
       "    <tr>\n",
       "      <th>2023-02-14</th>\n",
       "      <td>$153.2</td>\n",
       "      <td>61707570</td>\n",
       "      <td>$152.12</td>\n",
       "      <td>$153.77</td>\n",
       "      <td>$150.86</td>\n",
       "    </tr>\n",
       "    <tr>\n",
       "      <th>2023-02-13</th>\n",
       "      <td>$153.85</td>\n",
       "      <td>62199010</td>\n",
       "      <td>$150.952</td>\n",
       "      <td>$154.26</td>\n",
       "      <td>$150.92</td>\n",
       "    </tr>\n",
       "    <tr>\n",
       "      <th>2023-02-10</th>\n",
       "      <td>$151.01</td>\n",
       "      <td>57450710</td>\n",
       "      <td>$149.46</td>\n",
       "      <td>$151.3401</td>\n",
       "      <td>$149.22</td>\n",
       "    </tr>\n",
       "    <tr>\n",
       "      <th>2023-02-09</th>\n",
       "      <td>$150.87</td>\n",
       "      <td>56007140</td>\n",
       "      <td>$153.775</td>\n",
       "      <td>$154.33</td>\n",
       "      <td>$150.42</td>\n",
       "    </tr>\n",
       "  </tbody>\n",
       "</table>\n",
       "</div>"
      ],
      "text/plain": [
       "              Close    Volume      Open       High        Low\n",
       "Date                                                         \n",
       "2023-02-16  $153.71  68167940   $153.51    $156.33  $153.3475\n",
       "2023-02-15  $155.33  65669250   $153.11     $155.5    $152.88\n",
       "2023-02-14   $153.2  61707570   $152.12    $153.77    $150.86\n",
       "2023-02-13  $153.85  62199010  $150.952    $154.26    $150.92\n",
       "2023-02-10  $151.01  57450710   $149.46  $151.3401    $149.22\n",
       "2023-02-09  $150.87  56007140  $153.775    $154.33    $150.42"
      ]
     },
     "execution_count": 50,
     "metadata": {},
     "output_type": "execute_result"
    }
   ],
   "source": [
    "import pandas as pd\n",
    "import numpy as np\n",
    "df = pd.read_csv(\"apple.csv\", parse_dates=[\"Date\"], index_col=\"Date\")\n",
    "df.rename(columns={\"Close/Last\":\"Close\"}, inplace=True)\n",
    "df.head(6)"
   ]
  },
  {
   "cell_type": "code",
   "execution_count": 73,
   "id": "83bc34fb",
   "metadata": {},
   "outputs": [
    {
     "data": {
      "text/plain": [
       "Close     float64\n",
       "Volume      int64\n",
       "Open      float64\n",
       "High       object\n",
       "Low        object\n",
       "dtype: object"
      ]
     },
     "execution_count": 73,
     "metadata": {},
     "output_type": "execute_result"
    }
   ],
   "source": [
    "df.index\n",
    "type(df.Volume[0])\n",
    "df.dtypes"
   ]
  },
  {
   "cell_type": "code",
   "execution_count": 70,
   "id": "9ba09310",
   "metadata": {
    "scrolled": true
   },
   "outputs": [
    {
     "name": "stderr",
     "output_type": "stream",
     "text": [
      "C:\\Users\\Pabel\\AppData\\Local\\Temp\\ipykernel_15140\\3072481005.py:1: FutureWarning: The default value of regex will change from True to False in a future version. In addition, single character regular expressions will *not* be treated as literal strings when regex=True.\n",
      "  df[\"Open\"] = df[\"Open\"].str.replace('$','')\n"
     ]
    },
    {
     "data": {
      "text/plain": [
       "Date\n",
       "2023-02-16    153.510\n",
       "2023-02-15    153.110\n",
       "2023-02-14    152.120\n",
       "2023-02-13    150.952\n",
       "2023-02-10    149.460\n",
       "               ...   \n",
       "2022-02-24    152.580\n",
       "2022-02-23    165.540\n",
       "2022-02-22    164.980\n",
       "2022-02-18    169.820\n",
       "2022-02-17    171.030\n",
       "Name: Open, Length: 251, dtype: float64"
      ]
     },
     "execution_count": 70,
     "metadata": {},
     "output_type": "execute_result"
    }
   ],
   "source": [
    "df[\"Open\"] = df[\"Open\"].str.replace('$','')\n",
    "df[\"Open\"] = pd.to_numeric(df[\"Open\"])\n",
    "df[\"Open\"]"
   ]
  },
  {
   "cell_type": "code",
   "execution_count": 72,
   "id": "084f1efd",
   "metadata": {},
   "outputs": [
    {
     "name": "stderr",
     "output_type": "stream",
     "text": [
      "C:\\Users\\Pabel\\AppData\\Local\\Temp\\ipykernel_15140\\2724251661.py:1: FutureWarning: The default value of regex will change from True to False in a future version. In addition, single character regular expressions will *not* be treated as literal strings when regex=True.\n",
      "  df[\"Close\"] = df[\"Close\"].str.replace('$','')\n"
     ]
    },
    {
     "data": {
      "text/plain": [
       "Date\n",
       "2023-02-16    153.510\n",
       "2023-02-15    153.110\n",
       "2023-02-14    152.120\n",
       "2023-02-13    150.952\n",
       "2023-02-10    149.460\n",
       "               ...   \n",
       "2022-02-24    152.580\n",
       "2022-02-23    165.540\n",
       "2022-02-22    164.980\n",
       "2022-02-18    169.820\n",
       "2022-02-17    171.030\n",
       "Name: Close, Length: 251, dtype: float64"
      ]
     },
     "execution_count": 72,
     "metadata": {},
     "output_type": "execute_result"
    }
   ],
   "source": [
    "df[\"Close\"] = df[\"Close\"].str.replace('$','')\n",
    "df[\"Close\"] = pd.to_numeric(df[\"Close\"])\n",
    "df[\"Close\"]"
   ]
  },
  {
   "cell_type": "code",
   "execution_count": 75,
   "id": "2d3e661d",
   "metadata": {},
   "outputs": [
    {
     "name": "stderr",
     "output_type": "stream",
     "text": [
      "C:\\Users\\Pabel\\AppData\\Local\\Temp\\ipykernel_15140\\2658721480.py:1: FutureWarning: The default value of regex will change from True to False in a future version. In addition, single character regular expressions will *not* be treated as literal strings when regex=True.\n",
      "  df[\"High\"] = df[\"High\"].str.replace('$','')\n"
     ]
    },
    {
     "data": {
      "text/plain": [
       "Date\n",
       "2023-02-16    156.3300\n",
       "2023-02-15    155.5000\n",
       "2023-02-14    153.7700\n",
       "2023-02-13    154.2600\n",
       "2023-02-10    151.3401\n",
       "                ...   \n",
       "2022-02-24    162.8500\n",
       "2022-02-23    166.1500\n",
       "2022-02-22    166.6900\n",
       "2022-02-18    170.5413\n",
       "2022-02-17    171.9100\n",
       "Name: High, Length: 251, dtype: float64"
      ]
     },
     "execution_count": 75,
     "metadata": {},
     "output_type": "execute_result"
    }
   ],
   "source": [
    "df[\"High\"] = df[\"High\"].str.replace('$','')\n",
    "df[\"High\"] = pd.to_numeric(df[\"High\"])\n",
    "df[\"High\"]"
   ]
  },
  {
   "cell_type": "code",
   "execution_count": 76,
   "id": "6a18675f",
   "metadata": {},
   "outputs": [
    {
     "name": "stderr",
     "output_type": "stream",
     "text": [
      "C:\\Users\\Pabel\\AppData\\Local\\Temp\\ipykernel_15140\\185047443.py:1: FutureWarning: The default value of regex will change from True to False in a future version. In addition, single character regular expressions will *not* be treated as literal strings when regex=True.\n",
      "  df[\"Low\"] = df[\"Low\"].str.replace('$','')\n"
     ]
    },
    {
     "data": {
      "text/plain": [
       "Date\n",
       "2023-02-16    153.3475\n",
       "2023-02-15    152.8800\n",
       "2023-02-14    150.8600\n",
       "2023-02-13    150.9200\n",
       "2023-02-10    149.2200\n",
       "                ...   \n",
       "2022-02-24    152.0000\n",
       "2022-02-23    159.7500\n",
       "2022-02-22    162.1500\n",
       "2022-02-18    166.1900\n",
       "2022-02-17    168.4700\n",
       "Name: Low, Length: 251, dtype: float64"
      ]
     },
     "execution_count": 76,
     "metadata": {},
     "output_type": "execute_result"
    }
   ],
   "source": [
    "df[\"Low\"] = df[\"Low\"].str.replace('$','')\n",
    "df[\"Low\"] = pd.to_numeric(df[\"Low\"])\n",
    "df[\"Low\"]"
   ]
  },
  {
   "cell_type": "code",
   "execution_count": 28,
   "id": "9963798f",
   "metadata": {},
   "outputs": [
    {
     "name": "stderr",
     "output_type": "stream",
     "text": [
      "C:\\Users\\Pabel\\AppData\\Local\\Temp\\ipykernel_15140\\1971979108.py:1: FutureWarning: Indexing a DataFrame with a datetimelike index using a single string to slice the rows, like `frame[string]`, is deprecated and will be removed in a future version. Use `frame.loc[string]` instead.\n",
      "  df[\"2022-03\"].Close\n"
     ]
    },
    {
     "data": {
      "text/plain": [
       "Date\n",
       "2022-03-31    $174.61\n",
       "2022-03-30    $177.77\n",
       "2022-03-29    $178.96\n",
       "2022-03-28     $175.6\n",
       "2022-03-25    $174.72\n",
       "2022-03-24    $174.07\n",
       "2022-03-23    $170.21\n",
       "2022-03-22    $168.82\n",
       "2022-03-21    $165.38\n",
       "2022-03-18    $163.98\n",
       "2022-03-17    $160.62\n",
       "2022-03-16    $159.59\n",
       "2022-03-15    $155.09\n",
       "2022-03-14    $150.62\n",
       "2022-03-11    $154.73\n",
       "2022-03-10    $158.52\n",
       "2022-03-09    $162.95\n",
       "2022-03-08    $157.44\n",
       "2022-03-07     $159.3\n",
       "2022-03-04    $163.17\n",
       "2022-03-03    $166.23\n",
       "2022-03-02    $166.56\n",
       "2022-03-01     $163.2\n",
       "Name: Close, dtype: object"
      ]
     },
     "execution_count": 28,
     "metadata": {},
     "output_type": "execute_result"
    }
   ],
   "source": [
    "df[\"2022-03\"].Close"
   ]
  },
  {
   "cell_type": "code",
   "execution_count": 78,
   "id": "2e01ae82",
   "metadata": {},
   "outputs": [
    {
     "data": {
      "text/plain": [
       "Close     float64\n",
       "Volume      int64\n",
       "Open      float64\n",
       "High      float64\n",
       "Low       float64\n",
       "dtype: object"
      ]
     },
     "execution_count": 78,
     "metadata": {},
     "output_type": "execute_result"
    }
   ],
   "source": [
    "df.dtypes"
   ]
  },
  {
   "cell_type": "code",
   "execution_count": 79,
   "id": "a5b496c5",
   "metadata": {},
   "outputs": [
    {
     "data": {
      "text/plain": [
       "151.66"
      ]
     },
     "execution_count": 79,
     "metadata": {},
     "output_type": "execute_result"
    }
   ],
   "source": [
    "df.loc[\"2022-03-11\":\"2022-03-15\"].Low.mean()"
   ]
  },
  {
   "cell_type": "code",
   "execution_count": 88,
   "id": "e530a32f",
   "metadata": {},
   "outputs": [
    {
     "data": {
      "text/plain": [
       "<AxesSubplot:xlabel='Date'>"
      ]
     },
     "execution_count": 88,
     "metadata": {},
     "output_type": "execute_result"
    },
    {
     "data": {
      "image/png": "[encoded data removed]",
      "text/plain": [
       "<Figure size 640x480 with 1 Axes>"
      ]
     },
     "metadata": {},
     "output_type": "display_data"
    }
   ],
   "source": [
    "%matplotlib inline\n",
    "df['Close'].resample('M').mean().plot()\n"
   ]
  },
  {
   "cell_type": "code",
   "execution_count": 90,
   "id": "388333f8",
   "metadata": {},
   "outputs": [
    {
     "data": {
      "text/plain": [
       "<AxesSubplot:xlabel='Date'>"
      ]
     },
     "execution_count": 90,
     "metadata": {},
     "output_type": "execute_result"
    },
    {
     "data": {
      "image/png": "[encoded data removed]",
      "text/plain": [
       "<Figure size 640x480 with 1 Axes>"
      ]
     },
     "metadata": {},
     "output_type": "display_data"
    }
   ],
   "source": [
    "df['Close'].resample('Q').mean().plot(kind='bar')"
   ]
  },
  {
   "cell_type": "code",
   "execution_count": null,
   "id": "e44955f6",
   "metadata": {},
   "outputs": [],
   "source": []
  }
 ],
 "metadata": {
  "kernelspec": {
   "display_name": "Python 3 (ipykernel)",
   "language": "python",
   "name": "python3"
  },
  "language_info": {
   "codemirror_mode": {
    "name": "ipython",
    "version": 3
   },
   "file_extension": ".py",
   "mimetype": "text/x-python",
   "name": "python",
   "nbconvert_exporter": "python",
   "pygments_lexer": "ipython3",
   "version": "3.9.13"
  }
 },
 "nbformat": 4,
 "nbformat_minor": 5
}
